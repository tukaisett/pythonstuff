{
 "cells": [
  {
   "cell_type": "code",
   "execution_count": 1,
   "metadata": {},
   "outputs": [],
   "source": [
    "from pymongo import MongoClient\n",
    "client = MongoClient()\n",
    "DB_NOBEL_PRIZE = 'nobel_prize'\n",
    "COLL_WINNERS = 'winners'\n",
    "db = client.nobel_prize\n",
    "coll = db.winners"
   ]
  },
  {
   "cell_type": "code",
   "execution_count": 2,
   "metadata": {},
   "outputs": [],
   "source": [
    "nobel_winners = [\n",
    "{'category': 'Physics',\n",
    "'name': 'Albert Einstein',\n",
    "'nationality': 'Swiss',\n",
    "'sex': 'male',\n",
    "'year': 1921},\n",
    "{'category': 'Physics',\n",
    "'name': 'Paul Dirac',\n",
    "'nationality': 'British',\n",
    "'sex': 'male',\n",
    "'year': 1933},\n",
    "{'category': 'Chemistry',\n",
    "'name': 'Marie Curie',\n",
    "'nationality': 'Polish',\n",
    "'sex': 'female',\n",
    "'year': 1911}\n",
    "]"
   ]
  },
  {
   "cell_type": "code",
   "execution_count": 3,
   "metadata": {},
   "outputs": [],
   "source": [
    "from pymongo import MongoClient\n",
    "def get_mongo_database(db_name, host='localhost',\\\n",
    "                       port=27017, username=None, password=None):\n",
    "    \"\"\" Get named database from MongoDB with/out authentication \"\"\"\n",
    "    # make Mongo connection with/out authentication\n",
    "    if username and password:\n",
    "        mongo_uri = 'mongodb://%s:%s@%s/%s'%\\\n",
    "        (username, password, host, db_name)\n",
    "        conn = MongoClient(mongo_uri)\n",
    "    else:\n",
    "        conn = MongoClient(host, port)\n",
    "    return conn[db_name]"
   ]
  },
  {
   "cell_type": "code",
   "execution_count": 4,
   "metadata": {},
   "outputs": [
    {
     "name": "stderr",
     "output_type": "stream",
     "text": [
      "/home/tukai/anaconda3/envs/pyjsviz/lib/python2.7/site-packages/ipykernel_launcher.py:1: DeprecationWarning: insert is deprecated. Use insert_one or insert_many instead.\n",
      "  \"\"\"Entry point for launching an IPython kernel.\n"
     ]
    },
    {
     "data": {
      "text/plain": [
       "[ObjectId('5b776003326b4f3521c1f476'),\n",
       " ObjectId('5b776003326b4f3521c1f477'),\n",
       " ObjectId('5b776003326b4f3521c1f478')]"
      ]
     },
     "execution_count": 4,
     "metadata": {},
     "output_type": "execute_result"
    }
   ],
   "source": [
    "coll.insert(nobel_winners)"
   ]
  },
  {
   "cell_type": "code",
   "execution_count": 5,
   "metadata": {},
   "outputs": [
    {
     "data": {
      "text/plain": [
       "[{'_id': ObjectId('5b776003326b4f3521c1f476'),\n",
       "  'category': 'Physics',\n",
       "  'name': 'Albert Einstein',\n",
       "  'nationality': 'Swiss',\n",
       "  'sex': 'male',\n",
       "  'year': 1921},\n",
       " {'_id': ObjectId('5b776003326b4f3521c1f477'),\n",
       "  'category': 'Physics',\n",
       "  'name': 'Paul Dirac',\n",
       "  'nationality': 'British',\n",
       "  'sex': 'male',\n",
       "  'year': 1933},\n",
       " {'_id': ObjectId('5b776003326b4f3521c1f478'),\n",
       "  'category': 'Chemistry',\n",
       "  'name': 'Marie Curie',\n",
       "  'nationality': 'Polish',\n",
       "  'sex': 'female',\n",
       "  'year': 1911}]"
      ]
     },
     "execution_count": 5,
     "metadata": {},
     "output_type": "execute_result"
    }
   ],
   "source": [
    "nobel_winners"
   ]
  },
  {
   "cell_type": "code",
   "execution_count": 6,
   "metadata": {},
   "outputs": [
    {
     "data": {
      "text/plain": [
       "[{u'_id': ObjectId('5b73b981326b4f7d9c525208'),\n",
       "  u'category': u'Chemistry',\n",
       "  u'name': u'Marie Curie',\n",
       "  u'nationality': u'Polish',\n",
       "  u'sex': u'female',\n",
       "  u'year': 1911},\n",
       " {u'_id': ObjectId('5b776003326b4f3521c1f478'),\n",
       "  u'category': u'Chemistry',\n",
       "  u'name': u'Marie Curie',\n",
       "  u'nationality': u'Polish',\n",
       "  u'sex': u'female',\n",
       "  u'year': 1911}]"
      ]
     },
     "execution_count": 6,
     "metadata": {},
     "output_type": "execute_result"
    }
   ],
   "source": [
    "res = coll.find({'category':'Chemistry'})\n",
    "list(res)"
   ]
  },
  {
   "cell_type": "code",
   "execution_count": 7,
   "metadata": {},
   "outputs": [
    {
     "data": {
      "text/plain": [
       "[{u'_id': ObjectId('5b73b981326b4f7d9c525207'),\n",
       "  u'category': u'Physics',\n",
       "  u'name': u'Paul Dirac',\n",
       "  u'nationality': u'British',\n",
       "  u'sex': u'male',\n",
       "  u'year': 1933},\n",
       " {u'_id': ObjectId('5b776003326b4f3521c1f477'),\n",
       "  u'category': u'Physics',\n",
       "  u'name': u'Paul Dirac',\n",
       "  u'nationality': u'British',\n",
       "  u'sex': u'male',\n",
       "  u'year': 1933}]"
      ]
     },
     "execution_count": 7,
     "metadata": {},
     "output_type": "execute_result"
    }
   ],
   "source": [
    "res = coll.find({'year': {'$gt': 1930}})\n",
    "list(res)"
   ]
  },
  {
   "cell_type": "code",
   "execution_count": 8,
   "metadata": {},
   "outputs": [],
   "source": [
    "def mongo_coll_to_dicts(dbname='test', collname='test',\\\n",
    "query={}, del_id=True, **kw):\n",
    "    db = get_mongo_database(dbname, **kw)\n",
    "    res = list(db[collname].find(query))\n",
    "    if del_id:\n",
    "        for r in res:\n",
    "            r.pop('_id')\n",
    "    return res"
   ]
  },
  {
   "cell_type": "code",
   "execution_count": 9,
   "metadata": {},
   "outputs": [
    {
     "data": {
      "text/plain": [
       "[{u'category': u'Physics',\n",
       "  u'name': u'Albert Einstein',\n",
       "  u'nationality': u'Swiss',\n",
       "  u'sex': u'male',\n",
       "  u'year': 1921},\n",
       " {u'category': u'Physics',\n",
       "  u'name': u'Paul Dirac',\n",
       "  u'nationality': u'British',\n",
       "  u'sex': u'male',\n",
       "  u'year': 1933},\n",
       " {u'category': u'Chemistry',\n",
       "  u'name': u'Marie Curie',\n",
       "  u'nationality': u'Polish',\n",
       "  u'sex': u'female',\n",
       "  u'year': 1911},\n",
       " {u'category': u'Physics',\n",
       "  u'name': u'Albert Einstein',\n",
       "  u'nationality': u'Swiss',\n",
       "  u'sex': u'male',\n",
       "  u'year': 1921},\n",
       " {u'category': u'Physics',\n",
       "  u'name': u'Paul Dirac',\n",
       "  u'nationality': u'British',\n",
       "  u'sex': u'male',\n",
       "  u'year': 1933},\n",
       " {u'category': u'Chemistry',\n",
       "  u'name': u'Marie Curie',\n",
       "  u'nationality': u'Polish',\n",
       "  u'sex': u'female',\n",
       "  u'year': 1911}]"
      ]
     },
     "execution_count": 9,
     "metadata": {},
     "output_type": "execute_result"
    }
   ],
   "source": [
    "mongo_coll_to_dicts(DB_NOBEL_PRIZE, COLL_WINNERS)"
   ]
  },
  {
   "cell_type": "code",
   "execution_count": null,
   "metadata": {},
   "outputs": [],
   "source": []
  }
 ],
 "metadata": {
  "kernelspec": {
   "display_name": "Python 2",
   "language": "python",
   "name": "python2"
  },
  "language_info": {
   "codemirror_mode": {
    "name": "ipython",
    "version": 2
   },
   "file_extension": ".py",
   "mimetype": "text/x-python",
   "name": "python",
   "nbconvert_exporter": "python",
   "pygments_lexer": "ipython2",
   "version": "2.7.15"
  }
 },
 "nbformat": 4,
 "nbformat_minor": 2
}
