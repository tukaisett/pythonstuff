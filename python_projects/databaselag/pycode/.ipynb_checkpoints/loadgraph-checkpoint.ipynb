{
 "cells": [
  {
   "cell_type": "code",
   "execution_count": 1,
   "metadata": {},
   "outputs": [],
   "source": [
    "import plotly.plotly as py\n",
    "import plotly.graph_objs as go\n",
    "\n",
    "import mysql.connector \n",
    "import pandas as pd"
   ]
  },
  {
   "cell_type": "code",
   "execution_count": null,
   "metadata": {},
   "outputs": [],
   "source": [
    "cnx = mysql.connector.connect(user='scott', password='tiger',\n",
    "                              host='127.0.0.1',\n",
    "                              database='employees')\n",
    "\n",
    "try:\n",
    "   cursor = cnx.cursor()\n",
    "   cursor.execute(\"\"\"\n",
    "      select 3 from your_table\n",
    "   \"\"\")\n",
    "   result = cursor.fetchall()\n",
    "   print result\n",
    "finally:\n",
    "    cnx.close()"
   ]
  },
  {
   "cell_type": "code",
   "execution_count": null,
   "metadata": {},
   "outputs": [],
   "source": [
    "conn = mysql.connector.connect(user='scott', password='tiger',\n",
    "                              host='127.0.0.1',\n",
    "                              database='employees')\n",
    "cursor = conn.cursor()\n",
    "cursor.execute('select Name, Continent, Population, LifeExpectancy, GNP from Country');\n",
    "\n",
    "rows = cursor.fetchall()\n",
    "str(rows)[0:300]\n",
    "\n",
    "df = pd.DataFrame( [[ij for ij in i] for i in rows] )\n",
    "df.rename(columns={0: 'Name', 1: 'Continent', 2: 'Population', 3: 'LifeExpectancy', 4:'GNP'}, inplace=True);\n",
    "df = df.sort_values(['LifeExpectancy'], ascending=[1]);\n",
    "\n",
    "country_names = df['Name']\n",
    "for i in range(len(country_names)):\n",
    "    try:\n",
    "        country_names[i] = str(country_names[i]).decode('utf-8')\n",
    "    except:\n",
    "        country_names[i] = 'Country name decode error'\n",
    "        \n",
    "trace1 = go.Scatter(\n",
    "    x=df['GNP'],\n",
    "    y=df['LifeExpectancy'],\n",
    "    text=country_names,\n",
    "    mode='markers'\n",
    ")\n",
    "layout = go.Layout(\n",
    "    title='Life expectancy vs GNP from MySQL world database',\n",
    "    xaxis=dict( type='log', title='GNP' ),\n",
    "    yaxis=dict( title='Life expectancy' )\n",
    ")\n",
    "data = [trace1]\n",
    "fig = go.Figure(data=data, layout=layout)\n",
    "py.iplot(fig, filename='world GNP vs life expectancy')\n",
    "\n",
    "\n",
    "\n"
   ]
  }
 ],
 "metadata": {
  "kernelspec": {
   "display_name": "Python 2",
   "language": "python",
   "name": "python2"
  },
  "language_info": {
   "codemirror_mode": {
    "name": "ipython",
    "version": 2
   },
   "file_extension": ".py",
   "mimetype": "text/x-python",
   "name": "python",
   "nbconvert_exporter": "python",
   "pygments_lexer": "ipython2",
   "version": "2.7.15"
  }
 },
 "nbformat": 4,
 "nbformat_minor": 2
}
