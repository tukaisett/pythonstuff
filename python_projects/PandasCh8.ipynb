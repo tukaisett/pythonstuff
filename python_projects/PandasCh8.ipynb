{
 "cells": [
  {
   "cell_type": "code",
   "execution_count": 2,
   "metadata": {},
   "outputs": [],
   "source": [
    "import pandas as pd\n",
    "df = pd.read_json('/home/tukai/git/pythonstuff/python_projects/nobel_winners/nobel_winners_v2.json')"
   ]
  },
  {
   "cell_type": "code",
   "execution_count": 3,
   "metadata": {},
   "outputs": [
    {
     "data": {
      "text/plain": [
       "born_in     1095\n",
       "category    1095\n",
       "country     1095\n",
       "link        1095\n",
       "name        1095\n",
       "text        1095\n",
       "year        1095\n",
       "dtype: int64"
      ]
     },
     "execution_count": 3,
     "metadata": {},
     "output_type": "execute_result"
    }
   ],
   "source": [
    "df.count()"
   ]
  },
  {
   "cell_type": "code",
   "execution_count": 4,
   "metadata": {},
   "outputs": [
    {
     "data": {
      "text/html": [
       "<div>\n",
       "<style scoped>\n",
       "    .dataframe tbody tr th:only-of-type {\n",
       "        vertical-align: middle;\n",
       "    }\n",
       "\n",
       "    .dataframe tbody tr th {\n",
       "        vertical-align: top;\n",
       "    }\n",
       "\n",
       "    .dataframe thead th {\n",
       "        text-align: right;\n",
       "    }\n",
       "</style>\n",
       "<table border=\"1\" class=\"dataframe\">\n",
       "  <thead>\n",
       "    <tr style=\"text-align: right;\">\n",
       "      <th></th>\n",
       "      <th>born_in</th>\n",
       "      <th>category</th>\n",
       "      <th>country</th>\n",
       "      <th>link</th>\n",
       "      <th>name</th>\n",
       "      <th>text</th>\n",
       "      <th>year</th>\n",
       "    </tr>\n",
       "  </thead>\n",
       "  <tbody>\n",
       "    <tr>\n",
       "      <th>0</th>\n",
       "      <td></td>\n",
       "      <td>Physiology or Medicine</td>\n",
       "      <td>Argentina</td>\n",
       "      <td>http://en.wikipedia.org/wiki/C%C3%A9sar_Milstein</td>\n",
       "      <td>César Milstein</td>\n",
       "      <td>César Milstein , Physiology or Medicine, 1984</td>\n",
       "      <td>1984</td>\n",
       "    </tr>\n",
       "    <tr>\n",
       "      <th>1</th>\n",
       "      <td></td>\n",
       "      <td>Peace</td>\n",
       "      <td>Argentina</td>\n",
       "      <td>http://en.wikipedia.org/wiki/Adolfo_P%C3%A9rez...</td>\n",
       "      <td>Adolfo Pérez Esquivel</td>\n",
       "      <td>Adolfo Pérez Esquivel , Peace, 1980</td>\n",
       "      <td>1980</td>\n",
       "    </tr>\n",
       "    <tr>\n",
       "      <th>2</th>\n",
       "      <td></td>\n",
       "      <td>Chemistry</td>\n",
       "      <td>Argentina</td>\n",
       "      <td>http://en.wikipedia.org/wiki/Luis_Federico_Leloir</td>\n",
       "      <td>Luis Federico Leloir</td>\n",
       "      <td>Luis Federico Leloir , Chemistry, 1970</td>\n",
       "      <td>1970</td>\n",
       "    </tr>\n",
       "    <tr>\n",
       "      <th>3</th>\n",
       "      <td></td>\n",
       "      <td>Physiology or Medicine</td>\n",
       "      <td>Argentina</td>\n",
       "      <td>http://en.wikipedia.org/wiki/Bernardo_Houssay</td>\n",
       "      <td>Bernardo Houssay</td>\n",
       "      <td>Bernardo Houssay , Physiology or Medicine, 1947</td>\n",
       "      <td>1947</td>\n",
       "    </tr>\n",
       "    <tr>\n",
       "      <th>4</th>\n",
       "      <td></td>\n",
       "      <td>Peace</td>\n",
       "      <td>Argentina</td>\n",
       "      <td>http://en.wikipedia.org/wiki/Carlos_Saavedra_L...</td>\n",
       "      <td>Carlos Saavedra Lamas</td>\n",
       "      <td>Carlos Saavedra Lamas , Peace, 1936</td>\n",
       "      <td>1936</td>\n",
       "    </tr>\n",
       "  </tbody>\n",
       "</table>\n",
       "</div>"
      ],
      "text/plain": [
       "  born_in                category    country  \\\n",
       "0          Physiology or Medicine  Argentina   \n",
       "1                           Peace  Argentina   \n",
       "2                       Chemistry  Argentina   \n",
       "3          Physiology or Medicine  Argentina   \n",
       "4                           Peace  Argentina   \n",
       "\n",
       "                                                link                   name  \\\n",
       "0   http://en.wikipedia.org/wiki/C%C3%A9sar_Milstein         César Milstein   \n",
       "1  http://en.wikipedia.org/wiki/Adolfo_P%C3%A9rez...  Adolfo Pérez Esquivel   \n",
       "2  http://en.wikipedia.org/wiki/Luis_Federico_Leloir   Luis Federico Leloir   \n",
       "3      http://en.wikipedia.org/wiki/Bernardo_Houssay       Bernardo Houssay   \n",
       "4  http://en.wikipedia.org/wiki/Carlos_Saavedra_L...  Carlos Saavedra Lamas   \n",
       "\n",
       "                                              text  year  \n",
       "0    César Milstein , Physiology or Medicine, 1984  1984  \n",
       "1              Adolfo Pérez Esquivel , Peace, 1980  1980  \n",
       "2           Luis Federico Leloir , Chemistry, 1970  1970  \n",
       "3  Bernardo Houssay , Physiology or Medicine, 1947  1947  \n",
       "4              Carlos Saavedra Lamas , Peace, 1936  1936  "
      ]
     },
     "execution_count": 4,
     "metadata": {},
     "output_type": "execute_result"
    }
   ],
   "source": [
    "df.head()"
   ]
  },
  {
   "cell_type": "code",
   "execution_count": 5,
   "metadata": {},
   "outputs": [],
   "source": [
    "dupes_by_name = df[df.duplicated('name')]"
   ]
  },
  {
   "cell_type": "code",
   "execution_count": 6,
   "metadata": {},
   "outputs": [
    {
     "data": {
      "text/plain": [
       "born_in     71\n",
       "category    71\n",
       "country     71\n",
       "link        71\n",
       "name        71\n",
       "text        71\n",
       "year        71\n",
       "dtype: int64"
      ]
     },
     "execution_count": 6,
     "metadata": {},
     "output_type": "execute_result"
    }
   ],
   "source": [
    "dupes_by_name.count()"
   ]
  },
  {
   "cell_type": "code",
   "execution_count": 7,
   "metadata": {},
   "outputs": [],
   "source": [
    "df = df.drop_duplicates(['name', 'year'])"
   ]
  },
  {
   "cell_type": "code",
   "execution_count": 8,
   "metadata": {},
   "outputs": [
    {
     "data": {
      "text/plain": [
       "born_in     1030\n",
       "category    1030\n",
       "country     1030\n",
       "link        1030\n",
       "name        1030\n",
       "text        1030\n",
       "year        1030\n",
       "dtype: int64"
      ]
     },
     "execution_count": 8,
     "metadata": {},
     "output_type": "execute_result"
    }
   ],
   "source": [
    "df.count()"
   ]
  },
  {
   "cell_type": "code",
   "execution_count": 9,
   "metadata": {},
   "outputs": [],
   "source": [
    "from pymongo import MongoClient\n",
    "def get_mongo_database(db_name, host='localhost',\\\n",
    "                       port=27017, username=None, password=None):\n",
    "    \"\"\" Get named database from MongoDB with/out authentication \"\"\"\n",
    "    # make Mongo connection with/out authentication\n",
    "    if username and password:\n",
    "        mongo_uri = 'mongodb://%s:%s@%s/%s'%\\\n",
    "        (username, password, host, db_name)\n",
    "        conn = MongoClient(mongo_uri)\n",
    "    else:\n",
    "        conn = MongoClient(host, port)\n",
    "    return conn[db_name]"
   ]
  },
  {
   "cell_type": "code",
   "execution_count": 10,
   "metadata": {},
   "outputs": [],
   "source": [
    "import pandas as pd\n",
    "from pymongo import MongoClient\n",
    "def mongo_to_dataframe(db_name, collection, query={}, host='localhost', port=27017, username=None, password=None, no_id=True):\n",
    "    \"\"\" create a dataframe from mongodb collection \"\"\"\n",
    "    db = get_mongo_database(db_name, host, port, username, password)\n",
    "    cursor = db[collection].find(query)\n",
    "    df = pd.DataFrame(list(cursor))\n",
    "    if no_id:\n",
    "        del df['_id']\n",
    "    return df"
   ]
  },
  {
   "cell_type": "code",
   "execution_count": 11,
   "metadata": {},
   "outputs": [],
   "source": [
    "def dataframe_to_mongo(df, db_name, collection,\\\n",
    "                        host='localhost', port=27017,\\\n",
    "                        username=None, password=None):\n",
    "    \"\"\" save a dataframe to mongodb collection \"\"\"\n",
    "    db = get_mongo_database(db_name, host, port, username,\\\n",
    "                            password)\n",
    "    records = df.to_dict('records')\n",
    "    db[collection].insert_many(records)"
   ]
  },
  {
   "cell_type": "code",
   "execution_count": 12,
   "metadata": {},
   "outputs": [],
   "source": [
    "import sqlalchemy"
   ]
  },
  {
   "cell_type": "code",
   "execution_count": 13,
   "metadata": {},
   "outputs": [],
   "source": [
    "from sqlalchemy import create_engine\n",
    "import sqlalchemy\n",
    "engine = create_engine('sqlite:////home/tukai/data/nobel_prize.db', echo=True)\n",
    "\n",
    "from sqlalchemy.ext.declarative import declarative_base\n",
    "Base = declarative_base()\n",
    "from sqlalchemy import Column, Integer, String, Enum"
   ]
  },
  {
   "cell_type": "code",
   "execution_count": 14,
   "metadata": {},
   "outputs": [
    {
     "name": "stdout",
     "output_type": "stream",
     "text": [
      "2018-08-17 16:53:12,195 INFO sqlalchemy.engine.base.Engine SELECT CAST('test plain returns' AS VARCHAR(60)) AS anon_1\n",
      "2018-08-17 16:53:12,199 INFO sqlalchemy.engine.base.Engine ()\n",
      "2018-08-17 16:53:12,201 INFO sqlalchemy.engine.base.Engine SELECT CAST('test unicode returns' AS VARCHAR(60)) AS anon_1\n",
      "2018-08-17 16:53:12,203 INFO sqlalchemy.engine.base.Engine ()\n",
      "2018-08-17 16:53:12,206 INFO sqlalchemy.engine.base.Engine BEGIN (implicit)\n",
      "2018-08-17 16:53:12,207 INFO sqlalchemy.engine.base.Engine DROP TABLE Winners\n",
      "2018-08-17 16:53:12,209 INFO sqlalchemy.engine.base.Engine ()\n",
      "2018-08-17 16:53:12,228 INFO sqlalchemy.engine.base.Engine PRAGMA table_info(\"winners\")\n",
      "2018-08-17 16:53:12,230 INFO sqlalchemy.engine.base.Engine ()\n",
      "2018-08-17 16:53:12,235 INFO sqlalchemy.engine.base.Engine \n",
      "CREATE TABLE winners (\n",
      "\t\"index\" INTEGER NOT NULL, \n",
      "\tborn_in INTEGER, \n",
      "\tcategory VARCHAR, \n",
      "\tcountry VARCHAR, \n",
      "\tlink VARCHAR, \n",
      "\tname VARCHAR, \n",
      "\ttext VARCHAR, \n",
      "\tyear INTEGER, \n",
      "\tPRIMARY KEY (\"index\")\n",
      ")\n",
      "\n",
      "\n",
      "2018-08-17 16:53:12,237 INFO sqlalchemy.engine.base.Engine ()\n",
      "2018-08-17 16:53:12,250 INFO sqlalchemy.engine.base.Engine COMMIT\n"
     ]
    }
   ],
   "source": [
    "class Winner(Base):\n",
    "    __tablename__ = 'winners'\n",
    "    index = Column(Integer, primary_key=True)\n",
    "    born_in = Column(Integer)\n",
    "    category = Column(String)\n",
    "    country = Column(String)\n",
    "    link = Column(String)\n",
    "    name = Column(String)\n",
    "    text = Column(String)\n",
    "    year = Column(Integer)\n",
    "    \n",
    "    def __repr__(self):\n",
    "        return \"<Winner(name='%s', category='%s', year='%s')>\"\\\n",
    "            %(self.name, self.category, self.year)\n",
    "\n",
    "from sqlalchemy.orm import sessionmaker\n",
    "Session = sessionmaker(bind=engine)\n",
    "session = Session()\n",
    "session.execute('''DROP TABLE Winners''')\n",
    "Base.metadata.create_all(engine)"
   ]
  },
  {
   "cell_type": "code",
   "execution_count": 15,
   "metadata": {},
   "outputs": [
    {
     "name": "stdout",
     "output_type": "stream",
     "text": [
      "2018-08-17 16:53:13,836 INFO sqlalchemy.engine.base.Engine PRAGMA table_info(\"winners\")\n",
      "2018-08-17 16:53:13,840 INFO sqlalchemy.engine.base.Engine ()\n",
      "2018-08-17 16:53:13,845 INFO sqlalchemy.engine.base.Engine BEGIN (implicit)\n",
      "2018-08-17 16:53:13,860 INFO sqlalchemy.engine.base.Engine INSERT INTO winners (\"index\", born_in, category, country, link, name, text, year) VALUES (?, ?, ?, ?, ?, ?, ?, ?)\n",
      "2018-08-17 16:53:13,862 INFO sqlalchemy.engine.base.Engine ((0, u'', u'Physiology or Medicine', u'Argentina', u'http://en.wikipedia.org/wiki/C%C3%A9sar_Milstein', u'C\\xe9sar Milstein', u'C\\xe9sar Milstein , Physiology or Medicine, 1984', 1984), (1, u'', u'Peace', u'Argentina', u'http://en.wikipedia.org/wiki/Adolfo_P%C3%A9rez_Esquivel', u'Adolfo P\\xe9rez Esquivel', u'Adolfo P\\xe9rez Esquivel , Peace, 1980', 1980), (2, u'', u'Chemistry', u'Argentina', u'http://en.wikipedia.org/wiki/Luis_Federico_Leloir', u'Luis Federico Leloir', u'Luis Federico Leloir , Chemistry, 1970', 1970), (3, u'', u'Physiology or Medicine', u'Argentina', u'http://en.wikipedia.org/wiki/Bernardo_Houssay', u'Bernardo Houssay', u'Bernardo Houssay , Physiology or Medicine, 1947', 1947), (4, u'', u'Peace', u'Argentina', u'http://en.wikipedia.org/wiki/Carlos_Saavedra_Lamas', u'Carlos Saavedra Lamas', u'Carlos Saavedra Lamas , Peace, 1936', 1936), (5, u'', u'Physics', u'Australia', u'http://en.wikipedia.org/wiki/Brian_Schmidt', u'Brian Schmidt', u'Brian Schmidt ,  born in the United States , Physics, 2011', 2011), (6, u'Australia', u'Physiology or Medicine', u'', u'http://en.wikipedia.org/wiki/Elizabeth_Blackburn', u'Elizabeth Blackburn *', u'Elizabeth Blackburn *, Physiology or Medicine, 2009', 2009), (7, u'', u'Physiology or Medicine', u'Australia', u'http://en.wikipedia.org/wiki/Barry_Marshall', u'Barry Marshall', u'Barry Marshall , Physiology or Medicine, 2005', 2005)  ... displaying 10 of 1030 total bound parameter sets ...  (1093, u'', u'Peace', u'Vietnam', u'http://en.wikipedia.org/wiki/L%C3%AA_%C4%90%E1%BB%A9c_Th%E1%BB%8D', u'L\\xea \\u0110\\u1ee9c Th\\u1ecd', u'L\\xea \\u0110\\u1ee9c Th\\u1ecd ,  born in French Indochina , Peace, 1973 (declined)', 1973), (1094, u'', u'Peace', u'Yemen', u'http://en.wikipedia.org/wiki/Tawakkol_Karman', u'Tawakkol Karman', u'Tawakkol Karman , Peace, 2011', 2011))\n",
      "2018-08-17 16:53:13,871 INFO sqlalchemy.engine.base.Engine COMMIT\n",
      "2018-08-17 16:53:13,884 INFO sqlalchemy.engine.base.Engine COMMIT\n"
     ]
    }
   ],
   "source": [
    "df.to_sql('winners', engine, if_exists='append')\n",
    "session.commit()"
   ]
  },
  {
   "cell_type": "code",
   "execution_count": 16,
   "metadata": {},
   "outputs": [
    {
     "name": "stdout",
     "output_type": "stream",
     "text": [
      "2018-08-17 16:53:19,851 INFO sqlalchemy.engine.base.Engine BEGIN (implicit)\n",
      "2018-08-17 16:53:19,854 INFO sqlalchemy.engine.base.Engine SELECT count(*) AS count_1 \n",
      "FROM (SELECT winners.\"index\" AS winners_index, winners.born_in AS winners_born_in, winners.category AS winners_category, winners.country AS winners_country, winners.link AS winners_link, winners.name AS winners_name, winners.text AS winners_text, winners.year AS winners_year \n",
      "FROM winners) AS anon_1\n",
      "2018-08-17 16:53:19,856 INFO sqlalchemy.engine.base.Engine ()\n"
     ]
    },
    {
     "data": {
      "text/plain": [
       "1030"
      ]
     },
     "execution_count": 16,
     "metadata": {},
     "output_type": "execute_result"
    }
   ],
   "source": [
    "session.query(Winner).count()"
   ]
  },
  {
   "cell_type": "code",
   "execution_count": null,
   "metadata": {},
   "outputs": [],
   "source": []
  }
 ],
 "metadata": {
  "kernelspec": {
   "display_name": "Python 2",
   "language": "python",
   "name": "python2"
  },
  "language_info": {
   "codemirror_mode": {
    "name": "ipython",
    "version": 2
   },
   "file_extension": ".py",
   "mimetype": "text/x-python",
   "name": "python",
   "nbconvert_exporter": "python",
   "pygments_lexer": "ipython2",
   "version": "2.7.15"
  }
 },
 "nbformat": 4,
 "nbformat_minor": 2
}
