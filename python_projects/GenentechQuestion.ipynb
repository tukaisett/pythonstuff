{
 "cells": [
  {
   "cell_type": "code",
   "execution_count": 1,
   "metadata": {},
   "outputs": [],
   "source": [
    "import numpy as np"
   ]
  },
  {
   "cell_type": "code",
   "execution_count": 2,
   "metadata": {},
   "outputs": [],
   "source": [
    "def findContiguousColor(arrayOfPic, xSeed, ySeed, findColor):\n",
    "\n",
    "##    print(\"Array:\", xSeed, ySeed, arrayOfPic[xSeed][ySeed])\n",
    "    \n",
    "    #If the color has changed get out\n",
    "    if arrayOfPic[xSeed][ySeed] != findColor:\n",
    "        return;\n",
    "    \n",
    "    #Print this cell\n",
    "    if arrayOfPic[xSeed][ySeed] == findColor:\n",
    "        arrayOfPic[xSeed][ySeed] = 2 * findColor # Change the color so that we don't go into a recursive loop\n",
    "        print(\"(\", xSeed, \",\", ySeed, \")\")\n",
    "    \n",
    "    if xSeed > 0:\n",
    "#        print(\"Here 1:\", xSeed, ySeed)\n",
    "        findContiguousColor(arrayOfPic, xSeed - 1, ySeed, findColor)\n",
    "    if ySeed > 0:\n",
    "#        print(\"Here 2:\", xSeed, ySeed)\n",
    "        findContiguousColor(arrayOfPic, xSeed, ySeed - 1, findColor)\n",
    "    if xSeed < len(arrayOfPic) - 1:\n",
    "#        print(\"Here 3:\", xSeed, ySeed)\n",
    "        findContiguousColor(arrayOfPic, xSeed + 1, ySeed, findColor)\n",
    "    if ySeed < len(arrayOfPic[xSeed]) - 1:\n",
    "#        print(\"Here 4:\", xSeed, ySeed)\n",
    "        findContiguousColor(arrayOfPic, xSeed, ySeed + 1, findColor)"
   ]
  },
  {
   "cell_type": "code",
   "execution_count": 3,
   "metadata": {},
   "outputs": [],
   "source": [
    "inputArray = [[10, 10, 20, 10, 10, 20, 10, 10, 20, 10, 10, 20],\n",
    "          [10, 20, 20, 10, 20, 20, 10, 10, 20, 10, 10, 20],\n",
    "          [20, 10, 20, 10, 10, 20, 10, 10, 20, 10, 10, 20],\n",
    "          [20, 10, 20, 10, 20, 20, 10, 10, 20, 10, 10, 30],\n",
    "          [10, 10, 20, 10, 10, 10, 10, 10, 20, 10, 10, 30],\n",
    "          [10, 20, 20, 10, 10, 20, 10, 10, 20, 30, 30, 30],\n",
    "          [10, 20, 20, 10, 20, 20, 10, 10, 20, 30, 10, 20],\n",
    "          [20, 10, 20, 10, 10, 20, 10, 30, 30, 30, 10, 20],\n",
    "          [20, 10, 20, 10, 20, 20, 10, 30, 20, 10, 10, 20],\n",
    "          [10, 10, 20, 10, 10, 30, 30, 30, 20, 10, 10, 20],\n",
    "          [10, 20, 20, 10, 10, 30, 10, 10, 20, 10, 10, 20],\n",
    "          [10, 20, 20, 30, 30, 30, 10, 10, 20, 10, 10, 20],\n",
    "          [20, 10, 20, 30, 10, 20, 10, 10, 20, 10, 10, 20],\n",
    "          [20, 30, 30, 30, 20, 20, 10, 10, 20, 10, 10, 20],\n",
    "          [20, 30, 20, 10, 20, 20, 10, 10, 20, 10, 10, 20],\n",
    "          [30, 30, 20, 10, 20, 20, 10, 10, 20, 10, 10, 20],\n",
    "          [20, 10, 20, 10, 20, 20, 10, 10, 20, 10, 10, 20],\n",
    "          [10, 10, 20, 10, 10, 10, 10, 10, 20, 10, 10, 20]]"
   ]
  },
  {
   "cell_type": "code",
   "execution_count": 4,
   "metadata": {},
   "outputs": [
    {
     "name": "stdout",
     "output_type": "stream",
     "text": [
      "18\n",
      "12\n"
     ]
    }
   ],
   "source": [
    "print(len(inputArray))\n",
    "print(len(inputArray[0]))"
   ]
  },
  {
   "cell_type": "code",
   "execution_count": 5,
   "metadata": {},
   "outputs": [
    {
     "name": "stdout",
     "output_type": "stream",
     "text": [
      "( 13 , 3 )\n",
      "( 12 , 3 )\n",
      "( 11 , 3 )\n",
      "( 11 , 4 )\n",
      "( 11 , 5 )\n",
      "( 10 , 5 )\n",
      "( 9 , 5 )\n",
      "( 9 , 6 )\n",
      "( 9 , 7 )\n",
      "( 8 , 7 )\n",
      "( 7 , 7 )\n",
      "( 7 , 8 )\n",
      "( 7 , 9 )\n",
      "( 6 , 9 )\n",
      "( 5 , 9 )\n",
      "( 5 , 10 )\n",
      "( 5 , 11 )\n",
      "( 4 , 11 )\n",
      "( 3 , 11 )\n",
      "( 13 , 2 )\n",
      "( 13 , 1 )\n",
      "( 14 , 1 )\n",
      "( 15 , 1 )\n",
      "( 15 , 0 )\n"
     ]
    }
   ],
   "source": [
    "findContiguousColor(inputArray, xSeed = 13, ySeed = 3, findColor = 30)"
   ]
  },
  {
   "cell_type": "code",
   "execution_count": 6,
   "metadata": {},
   "outputs": [
    {
     "name": "stdout",
     "output_type": "stream",
     "text": [
      "[[10 10 20 10 10 20 10 10 20 10 10 20]\n",
      " [10 20 20 10 20 20 10 10 20 10 10 20]\n",
      " [20 10 20 10 10 20 10 10 20 10 10 20]\n",
      " [20 10 20 10 20 20 10 10 20 10 10 60]\n",
      " [10 10 20 10 10 10 10 10 20 10 10 60]\n",
      " [10 20 20 10 10 20 10 10 20 60 60 60]\n",
      " [10 20 20 10 20 20 10 10 20 60 10 20]\n",
      " [20 10 20 10 10 20 10 60 60 60 10 20]\n",
      " [20 10 20 10 20 20 10 60 20 10 10 20]\n",
      " [10 10 20 10 10 60 60 60 20 10 10 20]\n",
      " [10 20 20 10 10 60 10 10 20 10 10 20]\n",
      " [10 20 20 60 60 60 10 10 20 10 10 20]\n",
      " [20 10 20 60 10 20 10 10 20 10 10 20]\n",
      " [20 60 60 60 20 20 10 10 20 10 10 20]\n",
      " [20 60 20 10 20 20 10 10 20 10 10 20]\n",
      " [60 60 20 10 20 20 10 10 20 10 10 20]\n",
      " [20 10 20 10 20 20 10 10 20 10 10 20]\n",
      " [10 10 20 10 10 10 10 10 20 10 10 20]]\n"
     ]
    }
   ],
   "source": [
    "# Look for the 60s\n",
    "print(np.matrix(inputArray))"
   ]
  },
  {
   "cell_type": "code",
   "execution_count": null,
   "metadata": {},
   "outputs": [],
   "source": []
  }
 ],
 "metadata": {
  "kernelspec": {
   "display_name": "Python 3",
   "language": "python",
   "name": "python3"
  },
  "language_info": {
   "codemirror_mode": {
    "name": "ipython",
    "version": 3
   },
   "file_extension": ".py",
   "mimetype": "text/x-python",
   "name": "python",
   "nbconvert_exporter": "python",
   "pygments_lexer": "ipython3",
   "version": "3.7.2"
  }
 },
 "nbformat": 4,
 "nbformat_minor": 2
}
