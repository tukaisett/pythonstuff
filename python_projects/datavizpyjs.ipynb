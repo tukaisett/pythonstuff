{
 "cells": [
  {
   "cell_type": "code",
   "execution_count": 1,
   "metadata": {},
   "outputs": [],
   "source": [
    "from sqlalchemy import create_engine\n",
    "import sqlalchemy\n",
    "engine = create_engine(\\\n",
    "'sqlite:////home/tukai/data/nobel_prize.db', echo=True)"
   ]
  },
  {
   "cell_type": "code",
   "execution_count": 2,
   "metadata": {},
   "outputs": [],
   "source": [
    "nobel_winners = [\n",
    "{'category': 'Physics',\n",
    "'name': 'Albert Einstein',\n",
    "'nationality': 'Swiss',\n",
    "'sex': 'male',\n",
    "'year': 1921},\n",
    "{'category': 'Physics',\n",
    "'name': 'Paul Dirac',\n",
    "'nationality': 'British',\n",
    "'sex': 'male',\n",
    "'year': 1933},\n",
    "{'category': 'Chemistry',\n",
    "'name': 'Marie Curie',\n",
    "'nationality': 'Polish',\n",
    "'sex': 'female',\n",
    "'year': 1911}\n",
    "]"
   ]
  },
  {
   "cell_type": "code",
   "execution_count": 3,
   "metadata": {},
   "outputs": [],
   "source": [
    "from sqlalchemy.ext.declarative import declarative_base\n",
    "Base = declarative_base()"
   ]
  },
  {
   "cell_type": "code",
   "execution_count": 4,
   "metadata": {},
   "outputs": [],
   "source": [
    "from sqlalchemy import Column, Integer, String, Enum"
   ]
  },
  {
   "cell_type": "code",
   "execution_count": 5,
   "metadata": {},
   "outputs": [],
   "source": [
    "class Winner(Base):\n",
    "    __tablename__ = 'winners'\n",
    "    id = Column(Integer, primary_key=True)\n",
    "    name = Column(String)\n",
    "    category = Column(String)\n",
    "    year = Column(Integer)\n",
    "    nationality = Column(String)\n",
    "    sex = Column(Enum('male', 'female'))\n",
    "    def __repr__(self):\n",
    "        return \"<Winner(name='%s', category='%s', year='%s')>\"\\\n",
    "            %(self.name, self.category, self.year)"
   ]
  },
  {
   "cell_type": "code",
   "execution_count": 6,
   "metadata": {},
   "outputs": [
    {
     "name": "stdout",
     "output_type": "stream",
     "text": [
      "2018-07-08 13:50:04,092 INFO sqlalchemy.engine.base.Engine SELECT CAST('test plain returns' AS VARCHAR(60)) AS anon_1\n",
      "2018-07-08 13:50:04,093 INFO sqlalchemy.engine.base.Engine ()\n",
      "2018-07-08 13:50:04,095 INFO sqlalchemy.engine.base.Engine SELECT CAST('test unicode returns' AS VARCHAR(60)) AS anon_1\n",
      "2018-07-08 13:50:04,096 INFO sqlalchemy.engine.base.Engine ()\n",
      "2018-07-08 13:50:04,100 INFO sqlalchemy.engine.base.Engine PRAGMA table_info(\"winners\")\n",
      "2018-07-08 13:50:04,101 INFO sqlalchemy.engine.base.Engine ()\n"
     ]
    }
   ],
   "source": [
    "Base.metadata.create_all(engine)\n"
   ]
  },
  {
   "cell_type": "code",
   "execution_count": 7,
   "metadata": {},
   "outputs": [],
   "source": [
    "from sqlalchemy.orm import sessionmaker\n",
    "Session = sessionmaker(bind=engine)\n",
    "session = Session()\n"
   ]
  },
  {
   "cell_type": "code",
   "execution_count": 8,
   "metadata": {},
   "outputs": [
    {
     "name": "stdout",
     "output_type": "stream",
     "text": [
      "2018-07-08 13:50:04,453 INFO sqlalchemy.engine.base.Engine BEGIN (implicit)\n",
      "2018-07-08 13:50:04,459 INFO sqlalchemy.engine.base.Engine DELETE FROM Winners\n",
      "2018-07-08 13:50:04,461 INFO sqlalchemy.engine.base.Engine ()\n",
      "2018-07-08 13:50:04,463 INFO sqlalchemy.engine.base.Engine COMMIT\n"
     ]
    }
   ],
   "source": [
    "session.execute('''DELETE FROM Winners''')\n",
    "session.commit()"
   ]
  },
  {
   "cell_type": "code",
   "execution_count": 9,
   "metadata": {},
   "outputs": [
    {
     "data": {
      "text/plain": [
       "IdentitySet([<Winner(name='Albert Einstein', category='Physics', year='1921')>])"
      ]
     },
     "execution_count": 9,
     "metadata": {},
     "output_type": "execute_result"
    }
   ],
   "source": [
    "albert = Winner(**nobel_winners[0])\n",
    "session.add(albert)\n",
    "session.new"
   ]
  },
  {
   "cell_type": "code",
   "execution_count": 10,
   "metadata": {},
   "outputs": [
    {
     "data": {
      "text/plain": [
       "IdentitySet([])"
      ]
     },
     "execution_count": 10,
     "metadata": {},
     "output_type": "execute_result"
    }
   ],
   "source": [
    "session.expunge(albert)\n",
    "session.new"
   ]
  },
  {
   "cell_type": "code",
   "execution_count": 11,
   "metadata": {},
   "outputs": [
    {
     "name": "stdout",
     "output_type": "stream",
     "text": [
      "2018-07-08 13:50:04,999 INFO sqlalchemy.engine.base.Engine BEGIN (implicit)\n",
      "2018-07-08 13:50:05,002 INFO sqlalchemy.engine.base.Engine INSERT INTO winners (name, category, year, nationality, sex) VALUES (?, ?, ?, ?, ?)\n",
      "2018-07-08 13:50:05,003 INFO sqlalchemy.engine.base.Engine ('Albert Einstein', 'Physics', 1921, 'Swiss', 'male')\n",
      "2018-07-08 13:50:05,005 INFO sqlalchemy.engine.base.Engine INSERT INTO winners (name, category, year, nationality, sex) VALUES (?, ?, ?, ?, ?)\n",
      "2018-07-08 13:50:05,007 INFO sqlalchemy.engine.base.Engine ('Paul Dirac', 'Physics', 1933, 'British', 'male')\n",
      "2018-07-08 13:50:05,008 INFO sqlalchemy.engine.base.Engine INSERT INTO winners (name, category, year, nationality, sex) VALUES (?, ?, ?, ?, ?)\n",
      "2018-07-08 13:50:05,009 INFO sqlalchemy.engine.base.Engine ('Marie Curie', 'Chemistry', 1911, 'Polish', 'female')\n",
      "2018-07-08 13:50:05,011 INFO sqlalchemy.engine.base.Engine COMMIT\n"
     ]
    }
   ],
   "source": [
    "winner_rows = [Winner(**w) for w in nobel_winners]\n",
    "session.add_all(winner_rows)\n",
    "session.commit()"
   ]
  },
  {
   "cell_type": "code",
   "execution_count": 12,
   "metadata": {},
   "outputs": [
    {
     "name": "stdout",
     "output_type": "stream",
     "text": [
      "2018-07-08 13:50:05,166 INFO sqlalchemy.engine.base.Engine BEGIN (implicit)\n",
      "2018-07-08 13:50:05,169 INFO sqlalchemy.engine.base.Engine SELECT count(*) AS count_1 \n",
      "FROM (SELECT winners.id AS winners_id, winners.name AS winners_name, winners.category AS winners_category, winners.year AS winners_year, winners.nationality AS winners_nationality, winners.sex AS winners_sex \n",
      "FROM winners) AS anon_1\n",
      "2018-07-08 13:50:05,170 INFO sqlalchemy.engine.base.Engine ()\n"
     ]
    },
    {
     "data": {
      "text/plain": [
       "3"
      ]
     },
     "execution_count": 12,
     "metadata": {},
     "output_type": "execute_result"
    }
   ],
   "source": [
    "session.query(Winner).count()"
   ]
  },
  {
   "cell_type": "code",
   "execution_count": 13,
   "metadata": {},
   "outputs": [
    {
     "name": "stdout",
     "output_type": "stream",
     "text": [
      "2018-07-08 13:50:05,342 INFO sqlalchemy.engine.base.Engine SELECT winners.id AS winners_id, winners.name AS winners_name, winners.category AS winners_category, winners.year AS winners_year, winners.nationality AS winners_nationality, winners.sex AS winners_sex \n",
      "FROM winners \n",
      "WHERE winners.nationality = ?\n",
      "2018-07-08 13:50:05,343 INFO sqlalchemy.engine.base.Engine ('Swiss',)\n"
     ]
    },
    {
     "data": {
      "text/plain": [
       "[<Winner(name='Albert Einstein', category='Physics', year='1921')>]"
      ]
     },
     "execution_count": 13,
     "metadata": {},
     "output_type": "execute_result"
    }
   ],
   "source": [
    "result = session.query(Winner).filter_by(nationality='Swiss')\n",
    "list(result)"
   ]
  },
  {
   "cell_type": "code",
   "execution_count": 14,
   "metadata": {},
   "outputs": [],
   "source": [
    "def inst_to_dict(inst, delete_id=True):\n",
    "    dat = {}\n",
    "    for column in inst.__table__.columns:\n",
    "        dat[column.name] = getattr(inst, column.name)\n",
    "    if delete_id:\n",
    "        dat.pop('id')\n",
    "    return dat"
   ]
  },
  {
   "cell_type": "code",
   "execution_count": 15,
   "metadata": {},
   "outputs": [
    {
     "name": "stdout",
     "output_type": "stream",
     "text": [
      "2018-07-08 13:50:05,701 INFO sqlalchemy.engine.base.Engine SELECT winners.id AS winners_id, winners.name AS winners_name, winners.category AS winners_category, winners.year AS winners_year, winners.nationality AS winners_nationality, winners.sex AS winners_sex \n",
      "FROM winners\n",
      "2018-07-08 13:50:05,702 INFO sqlalchemy.engine.base.Engine ()\n"
     ]
    },
    {
     "data": {
      "text/plain": [
       "[{'category': u'Physics',\n",
       "  'name': u'Albert Einstein',\n",
       "  'nationality': u'Swiss',\n",
       "  'sex': 'male',\n",
       "  'year': 1921},\n",
       " {'category': u'Physics',\n",
       "  'name': u'Paul Dirac',\n",
       "  'nationality': u'British',\n",
       "  'sex': 'male',\n",
       "  'year': 1933},\n",
       " {'category': u'Chemistry',\n",
       "  'name': u'Marie Curie',\n",
       "  'nationality': u'Polish',\n",
       "  'sex': 'female',\n",
       "  'year': 1911}]"
      ]
     },
     "execution_count": 15,
     "metadata": {},
     "output_type": "execute_result"
    }
   ],
   "source": [
    "winner_rows = session.query(Winner)\n",
    "nobel_winners = [inst_to_dict(w) for w in winner_rows]\n",
    "nobel_winners"
   ]
  },
  {
   "cell_type": "code",
   "execution_count": 16,
   "metadata": {},
   "outputs": [
    {
     "data": {
      "text/plain": [
       "IdentitySet([<Winner(name='Marie Curie', category='Chemistry', year='1911')>])"
      ]
     },
     "execution_count": 16,
     "metadata": {},
     "output_type": "execute_result"
    }
   ],
   "source": [
    "marie = session.query(Winner).get(3)\n",
    "marie.nationality = 'French'\n",
    "session.dirty"
   ]
  },
  {
   "cell_type": "code",
   "execution_count": 17,
   "metadata": {},
   "outputs": [
    {
     "name": "stdout",
     "output_type": "stream",
     "text": [
      "2018-07-08 13:50:06,064 INFO sqlalchemy.engine.base.Engine UPDATE winners SET nationality=? WHERE winners.id = ?\n",
      "2018-07-08 13:50:06,066 INFO sqlalchemy.engine.base.Engine ('French', 3)\n",
      "2018-07-08 13:50:06,068 INFO sqlalchemy.engine.base.Engine COMMIT\n"
     ]
    }
   ],
   "source": [
    "session.commit()"
   ]
  },
  {
   "cell_type": "code",
   "execution_count": 18,
   "metadata": {},
   "outputs": [
    {
     "data": {
      "text/plain": [
       "IdentitySet([])"
      ]
     },
     "execution_count": 18,
     "metadata": {},
     "output_type": "execute_result"
    }
   ],
   "source": [
    "session.dirty"
   ]
  },
  {
   "cell_type": "code",
   "execution_count": 19,
   "metadata": {},
   "outputs": [],
   "source": [
    "##session.query(Winner).delete()"
   ]
  },
  {
   "cell_type": "code",
   "execution_count": null,
   "metadata": {},
   "outputs": [],
   "source": []
  },
  {
   "cell_type": "code",
   "execution_count": null,
   "metadata": {},
   "outputs": [],
   "source": []
  },
  {
   "cell_type": "code",
   "execution_count": null,
   "metadata": {},
   "outputs": [],
   "source": []
  },
  {
   "cell_type": "code",
   "execution_count": null,
   "metadata": {},
   "outputs": [],
   "source": []
  },
  {
   "cell_type": "code",
   "execution_count": null,
   "metadata": {},
   "outputs": [],
   "source": []
  }
 ],
 "metadata": {
  "kernelspec": {
   "display_name": "Python 2",
   "language": "python",
   "name": "python2"
  },
  "language_info": {
   "codemirror_mode": {
    "name": "ipython",
    "version": 2
   },
   "file_extension": ".py",
   "mimetype": "text/x-python",
   "name": "python",
   "nbconvert_exporter": "python",
   "pygments_lexer": "ipython2",
   "version": "2.7.15"
  }
 },
 "nbformat": 4,
 "nbformat_minor": 2
}
