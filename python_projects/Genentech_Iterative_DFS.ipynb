{
 "cells": [
  {
   "cell_type": "markdown",
   "metadata": {},
   "source": [
    "# DFS Iterative using Stack"
   ]
  },
  {
   "cell_type": "code",
   "execution_count": 1,
   "metadata": {},
   "outputs": [],
   "source": [
    "import numpy as np\n",
    "from collections import deque"
   ]
  },
  {
   "cell_type": "code",
   "execution_count": 2,
   "metadata": {},
   "outputs": [],
   "source": [
    "class coordinate:\n",
    "    \n",
    "    def __init__(self, xC, yC):\n",
    "        self.xValue = xC\n",
    "        self.yValue = yC\n"
   ]
  },
  {
   "cell_type": "code",
   "execution_count": 3,
   "metadata": {},
   "outputs": [],
   "source": [
    "def findCCDFS(arrayOfPic, xSeed, ySeed, findColor):\n",
    "    \n",
    "    if arrayOfPic[xSeed][ySeed] != findColor:\n",
    "        return;\n",
    "    \n",
    "    pointsVisited = []\n",
    "    pointsVisited.append(coordinate(xSeed, ySeed))\n",
    "        \n",
    "    while pointsVisited:\n",
    "        visitingNow = pointsVisited.pop()\n",
    "        # process this point\n",
    "\n",
    "        if arrayOfPic[visitingNow.xValue][visitingNow.yValue] != findColor:\n",
    "            continue;\n",
    "            \n",
    "        #Print this cell if of the color we are searching for\n",
    "        if arrayOfPic[visitingNow.xValue][visitingNow.yValue] == findColor:\n",
    "            arrayOfPic[visitingNow.xValue][visitingNow.yValue] = 2 * findColor # Change the color so that we don't go into a recursive loop\n",
    "            print(\"(\", visitingNow.xValue, \",\", visitingNow.yValue, \")\")\n",
    "            \n",
    "        if visitingNow.xValue > 0:\n",
    "            pointsVisited.append(coordinate(visitingNow.xValue - 1, visitingNow.yValue))\n",
    "            \n",
    "        if visitingNow.yValue > 0:\n",
    "            pointsVisited.append(coordinate(visitingNow.xValue, visitingNow.yValue - 1))\n",
    "            \n",
    "        if visitingNow.xValue < len(arrayOfPic) - 1:\n",
    "            pointsVisited.append(coordinate(visitingNow.xValue + 1, visitingNow.yValue))\n",
    "            \n",
    "        if visitingNow.yValue < len(arrayOfPic[0]) - 1:\n",
    "            pointsVisited.append(coordinate(visitingNow.xValue, visitingNow.yValue + 1))\n",
    "        \n"
   ]
  },
  {
   "cell_type": "code",
   "execution_count": 4,
   "metadata": {},
   "outputs": [],
   "source": [
    "inputArray = [[1, 1, 2, 1, 1, 2, 1, 1, 2, 1, 1, 2],\n",
    "          [1, 2, 2, 1, 2, 2, 1, 1, 2, 1, 1, 2],\n",
    "          [2, 1, 2, 1, 1, 2, 1, 1, 2, 1, 1, 2],\n",
    "          [2, 1, 2, 1, 2, 2, 1, 1, 2, 1, 1, 5],\n",
    "          [1, 1, 2, 1, 1, 1, 1, 1, 2, 1, 1, 5],\n",
    "          [1, 2, 2, 1, 1, 2, 1, 1, 2, 5, 5, 5],\n",
    "          [1, 2, 2, 1, 2, 2, 1, 1, 2, 5, 1, 2],\n",
    "          [2, 1, 2, 1, 1, 2, 1, 5, 5, 5, 1, 2],\n",
    "          [2, 1, 2, 1, 2, 2, 1, 5, 2, 1, 1, 2],\n",
    "          [1, 1, 2, 1, 1, 5, 5, 5, 2, 1, 1, 2],\n",
    "          [1, 2, 2, 1, 1, 5, 1, 1, 2, 1, 1, 2],\n",
    "          [1, 2, 2, 5, 5, 5, 1, 1, 2, 1, 1, 2],\n",
    "          [2, 1, 2, 5, 1, 2, 1, 1, 2, 1, 1, 2],\n",
    "          [2, 5, 5, 5, 2, 2, 1, 1, 2, 1, 1, 2],\n",
    "          [2, 5, 2, 1, 2, 2, 1, 1, 2, 1, 1, 2],\n",
    "          [5, 5, 2, 1, 2, 2, 1, 1, 2, 1, 1, 2],\n",
    "          [2, 1, 2, 1, 2, 2, 1, 1, 2, 1, 1, 2],\n",
    "          [1, 1, 2, 1, 1, 1, 1, 1, 2, 1, 1, 2]]"
   ]
  },
  {
   "cell_type": "code",
   "execution_count": 5,
   "metadata": {},
   "outputs": [
    {
     "name": "stdout",
     "output_type": "stream",
     "text": [
      "18\n",
      "12\n"
     ]
    }
   ],
   "source": [
    "print(len(inputArray))\n",
    "print(len(inputArray[0]))"
   ]
  },
  {
   "cell_type": "code",
   "execution_count": 6,
   "metadata": {},
   "outputs": [
    {
     "name": "stdout",
     "output_type": "stream",
     "text": [
      "( 13 , 3 )\n",
      "( 13 , 2 )\n",
      "( 13 , 1 )\n",
      "( 14 , 1 )\n",
      "( 15 , 1 )\n",
      "( 15 , 0 )\n",
      "( 12 , 3 )\n",
      "( 11 , 3 )\n",
      "( 11 , 4 )\n",
      "( 11 , 5 )\n",
      "( 10 , 5 )\n",
      "( 9 , 5 )\n",
      "( 9 , 6 )\n",
      "( 9 , 7 )\n",
      "( 8 , 7 )\n",
      "( 7 , 7 )\n",
      "( 7 , 8 )\n",
      "( 7 , 9 )\n",
      "( 6 , 9 )\n",
      "( 5 , 9 )\n",
      "( 5 , 10 )\n",
      "( 5 , 11 )\n",
      "( 4 , 11 )\n",
      "( 3 , 11 )\n"
     ]
    }
   ],
   "source": [
    "findCCDFS(inputArray, xSeed = 13, ySeed = 3, findColor = 5)"
   ]
  },
  {
   "cell_type": "code",
   "execution_count": 7,
   "metadata": {},
   "outputs": [
    {
     "name": "stdout",
     "output_type": "stream",
     "text": [
      "[[ 1  1  2  1  1  2  1  1  2  1  1  2]\n",
      " [ 1  2  2  1  2  2  1  1  2  1  1  2]\n",
      " [ 2  1  2  1  1  2  1  1  2  1  1  2]\n",
      " [ 2  1  2  1  2  2  1  1  2  1  1 10]\n",
      " [ 1  1  2  1  1  1  1  1  2  1  1 10]\n",
      " [ 1  2  2  1  1  2  1  1  2 10 10 10]\n",
      " [ 1  2  2  1  2  2  1  1  2 10  1  2]\n",
      " [ 2  1  2  1  1  2  1 10 10 10  1  2]\n",
      " [ 2  1  2  1  2  2  1 10  2  1  1  2]\n",
      " [ 1  1  2  1  1 10 10 10  2  1  1  2]\n",
      " [ 1  2  2  1  1 10  1  1  2  1  1  2]\n",
      " [ 1  2  2 10 10 10  1  1  2  1  1  2]\n",
      " [ 2  1  2 10  1  2  1  1  2  1  1  2]\n",
      " [ 2 10 10 10  2  2  1  1  2  1  1  2]\n",
      " [ 2 10  2  1  2  2  1  1  2  1  1  2]\n",
      " [10 10  2  1  2  2  1  1  2  1  1  2]\n",
      " [ 2  1  2  1  2  2  1  1  2  1  1  2]\n",
      " [ 1  1  2  1  1  1  1  1  2  1  1  2]]\n"
     ]
    }
   ],
   "source": [
    "# Look for the 10s\n",
    "print(np.matrix(inputArray))"
   ]
  },
  {
   "cell_type": "code",
   "execution_count": 8,
   "metadata": {},
   "outputs": [],
   "source": [
    "inputArray2 = [[1, 1, 2, 1, 1, 2, 1, 1, 2, 1, 1, 2],\n",
    "          [1, 2, 2, 1, 2, 2, 1, 1, 2, 1, 1, 2],\n",
    "          [2, 1, 2, 1, 1, 2, 1, 1, 2, 1, 1, 2],\n",
    "          [2, 1, 2, 1, 2, 2, 1, 1, 2, 1, 1, 5],\n",
    "          [1, 1, 2, 1, 1, 1, 1, 1, 2, 1, 1, 5],\n",
    "          [1, 2, 2, 1, 1, 2, 1, 1, 2, 5, 5, 5],\n",
    "          [1, 2, 2, 1, 2, 2, 1, 1, 2, 5, 1, 2],\n",
    "          [2, 1, 2, 1, 1, 2, 1, 5, 5, 5, 1, 2],\n",
    "          [2, 1, 2, 1, 2, 2, 1, 5, 2, 1, 1, 2],\n",
    "          [1, 1, 2, 1, 1, 5, 5, 5, 2, 1, 1, 2],\n",
    "          [1, 2, 2, 1, 1, 5, 1, 1, 2, 1, 1, 2],\n",
    "          [1, 2, 2, 5, 5, 5, 1, 1, 2, 1, 1, 2],\n",
    "          [2, 1, 2, 5, 1, 2, 1, 1, 2, 1, 1, 2],\n",
    "          [2, 5, 2, 5, 2, 2, 1, 1, 2, 1, 1, 2],\n",
    "          [2, 5, 2, 1, 2, 2, 1, 1, 2, 1, 1, 2],\n",
    "          [5, 5, 2, 1, 2, 2, 1, 1, 2, 1, 1, 2],\n",
    "          [2, 1, 2, 1, 2, 2, 1, 1, 2, 1, 1, 2],\n",
    "          [1, 1, 2, 1, 1, 1, 1, 1, 2, 1, 1, 2]]"
   ]
  },
  {
   "cell_type": "code",
   "execution_count": 9,
   "metadata": {},
   "outputs": [
    {
     "name": "stdout",
     "output_type": "stream",
     "text": [
      "( 13 , 3 )\n",
      "( 12 , 3 )\n",
      "( 11 , 3 )\n",
      "( 11 , 4 )\n",
      "( 11 , 5 )\n",
      "( 10 , 5 )\n",
      "( 9 , 5 )\n",
      "( 9 , 6 )\n",
      "( 9 , 7 )\n",
      "( 8 , 7 )\n",
      "( 7 , 7 )\n",
      "( 7 , 8 )\n",
      "( 7 , 9 )\n",
      "( 6 , 9 )\n",
      "( 5 , 9 )\n",
      "( 5 , 10 )\n",
      "( 5 , 11 )\n",
      "( 4 , 11 )\n",
      "( 3 , 11 )\n"
     ]
    }
   ],
   "source": [
    "findCCDFS(inputArray2, xSeed = 13, ySeed = 3, findColor = 5)"
   ]
  },
  {
   "cell_type": "code",
   "execution_count": 10,
   "metadata": {},
   "outputs": [
    {
     "name": "stdout",
     "output_type": "stream",
     "text": [
      "[[ 1  1  2  1  1  2  1  1  2  1  1  2]\n",
      " [ 1  2  2  1  2  2  1  1  2  1  1  2]\n",
      " [ 2  1  2  1  1  2  1  1  2  1  1  2]\n",
      " [ 2  1  2  1  2  2  1  1  2  1  1 10]\n",
      " [ 1  1  2  1  1  1  1  1  2  1  1 10]\n",
      " [ 1  2  2  1  1  2  1  1  2 10 10 10]\n",
      " [ 1  2  2  1  2  2  1  1  2 10  1  2]\n",
      " [ 2  1  2  1  1  2  1 10 10 10  1  2]\n",
      " [ 2  1  2  1  2  2  1 10  2  1  1  2]\n",
      " [ 1  1  2  1  1 10 10 10  2  1  1  2]\n",
      " [ 1  2  2  1  1 10  1  1  2  1  1  2]\n",
      " [ 1  2  2 10 10 10  1  1  2  1  1  2]\n",
      " [ 2  1  2 10  1  2  1  1  2  1  1  2]\n",
      " [ 2  5  2 10  2  2  1  1  2  1  1  2]\n",
      " [ 2  5  2  1  2  2  1  1  2  1  1  2]\n",
      " [ 5  5  2  1  2  2  1  1  2  1  1  2]\n",
      " [ 2  1  2  1  2  2  1  1  2  1  1  2]\n",
      " [ 1  1  2  1  1  1  1  1  2  1  1  2]]\n"
     ]
    }
   ],
   "source": [
    "# Look for the 10s\n",
    "print(np.matrix(inputArray2))"
   ]
  },
  {
   "cell_type": "code",
   "execution_count": null,
   "metadata": {},
   "outputs": [],
   "source": []
  },
  {
   "cell_type": "code",
   "execution_count": null,
   "metadata": {},
   "outputs": [],
   "source": []
  }
 ],
 "metadata": {
  "kernelspec": {
   "display_name": "Python 3",
   "language": "python",
   "name": "python3"
  },
  "language_info": {
   "codemirror_mode": {
    "name": "ipython",
    "version": 3
   },
   "file_extension": ".py",
   "mimetype": "text/x-python",
   "name": "python",
   "nbconvert_exporter": "python",
   "pygments_lexer": "ipython3",
   "version": "3.7.2"
  }
 },
 "nbformat": 4,
 "nbformat_minor": 2
}
