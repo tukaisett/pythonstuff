{
 "cells": [
  {
   "cell_type": "code",
   "execution_count": null,
   "metadata": {},
   "outputs": [],
   "source": [
    "from Tkinter import *\n",
    "import tkMessageBox\n",
    "\n",
    "window = Tk()\n",
    "window.wm_withdraw()\n",
    "\n",
    "#message at x:200,y:200\n",
    "window.geometry(\"1x1+200+200\")#remember its .geometry(\"WidthxHeight(+or-)X(+or-)Y\")\n",
    "tkMessageBox.showerror(title=\"error\",message=\"Error Message\",parent=window)\n",
    "\n",
    "#centre screen message\n",
    "window.geometry(\"1x1+\"+str(window.winfo_screenwidth()/2)+\"+\"+str(window.winfo_screenheight()/2))\n",
    "tkMessageBox.showinfo(title=\"Greetings\", message=\"Hello World!\")"
   ]
  },
  {
   "cell_type": "code",
   "execution_count": 3,
   "metadata": {},
   "outputs": [
    {
     "name": "stdout",
     "output_type": "stream",
     "text": [
      "15.203125\n"
     ]
    }
   ],
   "source": [
    "from scipy import interpolate\n",
    "\n",
    "def f(x):\n",
    "    x_points = [ 0, 1, 2, 3, 4, 5]\n",
    "    y_points = [12,14,22,39,58,77]\n",
    "\n",
    "    tck = interpolate.splrep(x_points, y_points)\n",
    "    return interpolate.splev(x, tck)\n",
    "\n",
    "print f(1.25)"
   ]
  }
 ],
 "metadata": {
  "kernelspec": {
   "display_name": "Python 2",
   "language": "python",
   "name": "python2"
  },
  "language_info": {
   "codemirror_mode": {
    "name": "ipython",
    "version": 2
   },
   "file_extension": ".py",
   "mimetype": "text/x-python",
   "name": "python",
   "nbconvert_exporter": "python",
   "pygments_lexer": "ipython2",
   "version": "2.7.14"
  }
 },
 "nbformat": 4,
 "nbformat_minor": 2
}
